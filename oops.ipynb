{
 "cells": [
  {
   "cell_type": "markdown",
   "id": "cd07858e-8191-43fe-8fd9-9f80cdfc304e",
   "metadata": {},
   "source": [
    "ans-1In object-oriented programming (OOP), a class is a blueprint or template for creating objects. It defines a set of attributes (data) and behaviors (methods) that the objects of that class will possess. Essentially, a class encapsulates the common properties and functionalities that objects of the same type should have.\n"
   ]
  },
  {
   "cell_type": "code",
   "execution_count": 1,
   "id": "4ae866f4-115a-41d2-9f27-3da948598e7f",
   "metadata": {},
   "outputs": [],
   "source": [
    "class Car:\n",
    "    def __init__(self, make, model, color, year):\n",
    "        self.make = make\n",
    "        self.model = model\n",
    "        self.color = color\n",
    "        self.year = year\n",
    "\n",
    "    def start(self):\n",
    "        print(\"The car has started.\")"
   ]
  },
  {
   "cell_type": "markdown",
   "id": "bdb21510-35a8-4839-9802-6b2d0d2ec8c3",
   "metadata": {},
   "source": [
    " ans -2 four pillars are encapsulation abstraction inheritance and polymorphism"
   ]
  },
  {
   "cell_type": "markdown",
   "id": "f94666a3-9291-477f-90db-d33758f5d952",
   "metadata": {},
   "source": [
    "ans-3 The __init__() function is a special method in Python that is automatically called when an object is created from a class. It is known as the constructor method, and its purpose is to initialize the attributes of the object with the provided values.\n",
    "class Person:\n",
    "    def __init__(self, name, age):\n",
    "        self.name = name\n",
    "        self.age = age\n",
    "\n"
   ]
  },
  {
   "cell_type": "markdown",
   "id": "24f6872b-6569-4fcf-82eb-7c6f4b1f196d",
   "metadata": {},
   "source": [
    "ans-4 In object-oriented programming (OOP), self is a convention used to refer to the instance of a class within its own methods. It acts as a reference to the current object or instance on which a method is being called. \n",
    "\n"
   ]
  },
  {
   "cell_type": "markdown",
   "id": "1362ef3b-c2dc-4239-8291-6387497d7c56",
   "metadata": {},
   "source": [
    "ans-5 Inheritance is a fundamental concept in object-oriented programming (OOP) that allows the creation of new classes (derived classes) based on existing classes (base classes or parent classes).\n",
    "Single Inheritance: Single inheritance refers to the situation where a derived class inherits from a single base class. \n",
    "Multiple Inheritance: Multiple inheritance allows a derived class to inherit attributes and methods from more than one base class. It represents a situation where a class is derived from multiple parent classes. \n",
    "Multilevel Inheritance: Multilevel inheritance refers to a situation where a derived class inherits from a base class, and then another class is derived from that derived class. In this way, the derived class becomes the base class for another class. It represents a hierarchical relationship.\n",
    "\n"
   ]
  },
  {
   "cell_type": "code",
   "execution_count": null,
   "id": "87389ee9-3330-4a16-b89e-1b7d142f0726",
   "metadata": {},
   "outputs": [],
   "source": []
  }
 ],
 "metadata": {
  "kernelspec": {
   "display_name": "Python 3 (ipykernel)",
   "language": "python",
   "name": "python3"
  },
  "language_info": {
   "codemirror_mode": {
    "name": "ipython",
    "version": 3
   },
   "file_extension": ".py",
   "mimetype": "text/x-python",
   "name": "python",
   "nbconvert_exporter": "python",
   "pygments_lexer": "ipython3",
   "version": "3.10.8"
  }
 },
 "nbformat": 4,
 "nbformat_minor": 5
}
