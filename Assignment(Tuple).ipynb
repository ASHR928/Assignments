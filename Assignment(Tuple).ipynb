{
 "cells": [
  {
   "cell_type": "markdown",
   "id": "cd3c0814-b7d0-43a3-aaa2-24521e99edc7",
   "metadata": {},
   "source": [
    "Ans-1 Tuples are ordered,indexed, you can iterate,hashable and can contain elements of different datatypes.Yes they are immutable"
   ]
  },
  {
   "cell_type": "markdown",
   "id": "362b254b-d3f6-483c-b04a-b85ccc2c3391",
   "metadata": {},
   "source": [
    "Ans-2 two tuples method are count and index\n",
    "for eg\n",
    "COUNT\n",
    "t2 = (1,1,2,3,4,4)\n",
    "tr = t2.count(1)\n",
    "print(tr)\n",
    "\n",
    "Index\n",
    "t2 = ('a','b','v','c')\n",
    "tr = t2.index('a')\n",
    "print(tr)\n",
    "\n",
    "Tuple have only two bbuilt in method because it is immutable while list are mutable and you can add modify update list.\n"
   ]
  },
  {
   "cell_type": "markdown",
   "id": "365cc4a8-b54e-44ad-9073-2a1159770b4a",
   "metadata": {},
   "source": [
    "ANS-3 Set"
   ]
  },
  {
   "cell_type": "code",
   "execution_count": 1,
   "id": "021eaa9b-5c4a-4c1c-bbb8-cb5b1d4964bf",
   "metadata": {},
   "outputs": [
    {
     "name": "stdout",
     "output_type": "stream",
     "text": [
      "{1, 2, 3}\n"
     ]
    }
   ],
   "source": [
    "lst = [1,1,1,1,2,2,2,3,3,3]\n",
    "print(set(lst))"
   ]
  },
  {
   "cell_type": "markdown",
   "id": "d7e07bdc-0887-48e9-b25d-317c3b5fd161",
   "metadata": {},
   "source": [
    "Ans -4 Both are used to merge two sets only difference is that union creates a new set while update mutates the set in place.\n"
   ]
  },
  {
   "cell_type": "code",
   "execution_count": 2,
   "id": "086b5d42-0665-4c23-b797-ab70821f331a",
   "metadata": {},
   "outputs": [
    {
     "name": "stdout",
     "output_type": "stream",
     "text": [
      "{1, 2, 3, 4, 5}\n"
     ]
    }
   ],
   "source": [
    "set1 = {1,2,3}\n",
    "set2 = {3,4,5}\n",
    "union_set = set1.union(set2)\n",
    "print(union_set)"
   ]
  },
  {
   "cell_type": "code",
   "execution_count": 6,
   "id": "5ffe4824-7468-4b55-9ef9-3452d41f9ff6",
   "metadata": {},
   "outputs": [
    {
     "name": "stdout",
     "output_type": "stream",
     "text": [
      "{1, 2, 3, 4, 5}\n"
     ]
    }
   ],
   "source": [
    "set1 = {1,2,3}\n",
    "set2 = {3,4,5}\n",
    "set1.update(set2)\n",
    "print(set1)"
   ]
  },
  {
   "cell_type": "markdown",
   "id": "9c01605f-00c9-44dc-a1b9-7e900647080a",
   "metadata": {},
   "source": [
    " Ans-5 A dictionary in Python is a collection of key-value pairs. It is also known as an associative array or a hash map\n",
    "student = {\n",
    "    \"name\": \"John\",\n",
    "    \"age\": 20,\n",
    "    \"major\": \"Computer Science\",\n",
    "    \"GPA\": 3.8\n",
    "}\n",
    "Dictionaries are ordered."
   ]
  },
  {
   "cell_type": "markdown",
   "id": "bf928695-c3d8-4efd-a936-2d1aca188369",
   "metadata": {},
   "source": [
    "Yes, it is possible to create a nested dictionary in Python.\n",
    "student = {\n",
    "    \"name\": \"John\",\n",
    "    \"age\": 20,\n",
    "    \"details\": {\n",
    "        \"major\": \"Computer Science\",\n",
    "        \"GPA\": 3.8\n",
    "    }\n",
    "}"
   ]
  },
  {
   "cell_type": "code",
   "execution_count": 7,
   "id": "c6d078f4-41b0-4b92-9a68-74fae1d88ab2",
   "metadata": {},
   "outputs": [
    {
     "name": "stdout",
     "output_type": "stream",
     "text": [
      "{'language': 'Python', 'course': 'Data', 'topics': ['Python', 'Machine Learning', 'Deep Learning']}\n"
     ]
    }
   ],
   "source": [
    "dict1 = {'language': 'Python', 'course': 'Data'}\n",
    "\n",
    "dict1.setdefault('topics', ['Python', 'Machine Learning', 'Deep Learning'])\n",
    "\n",
    "print(dict1)"
   ]
  },
  {
   "cell_type": "markdown",
   "id": "50c209fa-f798-44ed-bd96-4fb5e5de9435",
   "metadata": {},
   "source": [
    "Ans 8 the three view objects are key value and items"
   ]
  },
  {
   "cell_type": "code",
   "execution_count": 8,
   "id": "ee46a476-3f5e-4253-aafa-535b640a78d4",
   "metadata": {},
   "outputs": [
    {
     "name": "stdout",
     "output_type": "stream",
     "text": [
      "dict_keys(['Sport', 'Teams'])\n",
      "dict_values(['Cricket', ['India', 'Australia', 'England', 'South Africa', 'Sri Lanka', 'New Zealand']])\n",
      "dict_items([('Sport', 'Cricket'), ('Teams', ['India', 'Australia', 'England', 'South Africa', 'Sri Lanka', 'New Zealand'])])\n"
     ]
    }
   ],
   "source": [
    "dict1 = {'Sport': 'Cricket', 'Teams': ['India', 'Australia', 'England', 'South Africa', 'Sri Lanka', 'New Zealand']}\n",
    "keys_view = dict1.keys()\n",
    "print(keys_view)\n",
    "values_view = dict1.values()\n",
    "print(values_view)\n",
    "items_view = dict1.items()\n",
    "print(items_view)\n"
   ]
  },
  {
   "cell_type": "code",
   "execution_count": null,
   "id": "15c219e5-129b-4ed6-8971-351e8ca6c4a8",
   "metadata": {},
   "outputs": [],
   "source": []
  }
 ],
 "metadata": {
  "kernelspec": {
   "display_name": "Python 3 (ipykernel)",
   "language": "python",
   "name": "python3"
  },
  "language_info": {
   "codemirror_mode": {
    "name": "ipython",
    "version": 3
   },
   "file_extension": ".py",
   "mimetype": "text/x-python",
   "name": "python",
   "nbconvert_exporter": "python",
   "pygments_lexer": "ipython3",
   "version": "3.10.8"
  }
 },
 "nbformat": 4,
 "nbformat_minor": 5
}
