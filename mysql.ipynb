{
 "cells": [
  {
   "cell_type": "markdown",
   "id": "e637f350-525c-4afb-b307-14f3ccbb624c",
   "metadata": {},
   "source": [
    "A database is a structured collection of data organized and stored in a computer system. It provides a way to efficiently store, retrieve, update, and manage large amounts of data\n",
    "SQL databases are based on a rigid, predefined schema that determines the structure and relationships of the data.\n",
    " NoSQL databases have a flexible schema or schema-less design, allowing for dynamic and evolving data structures. They store data in various formats like key-value pairs, documents, graphs, or wide-column stores."
   ]
  },
  {
   "cell_type": "markdown",
   "id": "bbb638aa-605c-4d2c-9488-c772e2101709",
   "metadata": {},
   "source": [
    " ans-2 \n",
    " DDL stands for Data Definition Language. It is a subset of SQL (Structured Query Language) that allows users to define and manage the structure of a database. DDL statements are used to create, modify, and delete database objects such as tables, indexes, views, and constraints\n",
    "\n",
    "The CREATE statement is used to create new database objects such as tables, views, indexes, or constraints.\n",
    "CREATE TABLE Employees (\n",
    "    EmployeeID INT,\n",
    "    FirstName VARCHAR(50),\n",
    "    LastName VARCHAR(50),\n",
    "    HireDate DATE\n",
    ");\n",
    "\n",
    "DROP: The DROP statement is used to remove existing database objects such as tables, views, or indexes.\n",
    "\n",
    "The ALTER statement is used to modify the structure of an existing database object. It allows you to add, modify, or delete columns, constraints, or indexes\n",
    "The TRUNCATE statement is used to delete all data from a table, but it keeps the table structure intact."
   ]
  },
  {
   "cell_type": "markdown",
   "id": "339d1765-bad2-4e8b-ac9b-2c6e560dcc17",
   "metadata": {},
   "source": [
    "ans-3 DML stands for Data Manipulation Language. It is a subset of SQL (Structured Query Language) used to manipulate data within a database. DML statements are used to insert, update, and delete records in database tables\n",
    "\n",
    "The INSERT statement is used to add new records into a table. It allows you to specify the values for each column or select values from another table.\n",
    "\n",
    " The UPDATE statement is used to modify existing records in a table. It allows you to update specific columns with new values based on specified conditions\n",
    " \n",
    " DELETE: The DELETE statement is used to remove specific records from a table based on specified conditions."
   ]
  },
  {
   "cell_type": "markdown",
   "id": "42a796cf-8c88-4d4c-afeb-dc2f0afc6cf3",
   "metadata": {},
   "source": [
    "ans-4\n",
    "DQL stands for Data Query Language. It is a subset of SQL (Structured Query Language) used for querying and retrieving data from a database.\n",
    "The SELECT statement is used to retrieve data from one or more tables in a database. It allows you to specify the columns to be selected, apply filtering conditions, join multiple tables, perform aggregations, and sort the results\n",
    "\n",
    "SELECT FirstName, LastName, Salary\n",
    "FROM Employees\n",
    "WHERE Salary > 50000;"
   ]
  },
  {
   "cell_type": "markdown",
   "id": "0e74f3ff-425e-414c-b418-b8e14f6d0466",
   "metadata": {},
   "source": [
    "ans-5 A primary key is a column or set of columns in a database table that uniquely identifies each record (row) in the table. It serves as a unique identifier for each row and ensures the integrity and uniqueness of the data within the table. Here are the key characteristics of a primary key:\n",
    "\n",
    "A foreign key establishes a relationship between two tables in a relational database. It is a column or set of columns in one table that refers to the primary key in another table. The foreign key constraint ensures referential integrity, maintaining the relationships between related tables."
   ]
  },
  {
   "cell_type": "markdown",
   "id": "57ffc084-2891-4a9f-bb6c-62f97d411484",
   "metadata": {},
   "source": [
    "ans-6 import mysql.connector\n",
    "connection = mysql.connector.connect(\n",
    "    host=\"localhost\",\n",
    "    user=\"your_username\",\n",
    "    password=\"your_password\",\n",
    "    database=\"your_database\"\n",
    ")\n",
    "\n",
    "cursor = connection.cursor()\n",
    "query = SELECT * FROM table_1\n",
    "cursor.execute(query)"
   ]
  },
  {
   "cell_type": "markdown",
   "id": "af008954-8f53-4652-8e37-adbbbfd0d723",
   "metadata": {},
   "source": [
    "The order of execution of SQL clauses in an SQL query typically follows this sequence:\n",
    "\n",
    "SELECT: The SELECT clause is used to specify the columns or expressions to be included in the result set. It is usually the first clause in an SQL query.\n",
    "\n",
    "FROM: The FROM clause specifies the tables from which the data will be retrieved. It identifies the table(s) or view(s) involved in the query.\n",
    "\n",
    "WHERE: The WHERE clause is used to filter the rows based on specified conditions. It restricts the result set to only include rows that meet the specified criteria.\n",
    "\n",
    "GROUP BY: The GROUP BY clause is used to group rows together based on one or more columns. It is typically followed by aggregate functions such as SUM, COUNT, AVG, etc.\n",
    "\n",
    "HAVING: The HAVING clause filters the groups created by the GROUP BY clause based on specified conditions. It acts as a filter on the grouped data.\n",
    "\n",
    "ORDER BY: The ORDER BY clause is used to sort the result set based on one or more columns. It can sort in ascending or descending order.\n",
    "\n",
    "LIMIT / OFFSET: The LIMIT clause is used to limit the number of rows returned by the query. It is often used in combination with the OFFSET clause to paginate through large result sets."
   ]
  }
 ],
 "metadata": {
  "kernelspec": {
   "display_name": "Python 3 (ipykernel)",
   "language": "python",
   "name": "python3"
  },
  "language_info": {
   "codemirror_mode": {
    "name": "ipython",
    "version": 3
   },
   "file_extension": ".py",
   "mimetype": "text/x-python",
   "name": "python",
   "nbconvert_exporter": "python",
   "pygments_lexer": "ipython3",
   "version": "3.10.8"
  }
 },
 "nbformat": 4,
 "nbformat_minor": 5
}
