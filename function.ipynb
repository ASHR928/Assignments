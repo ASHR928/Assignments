{
 "cells": [
  {
   "cell_type": "markdown",
   "id": "deea03e1-3ff5-4287-8987-002cbd62ecc2",
   "metadata": {},
   "source": [
    "ANS-1 def keywords is use"
   ]
  },
  {
   "cell_type": "code",
   "execution_count": 3,
   "id": "dbfba48d-e11c-46e2-9b64-2e7c2cd579a7",
   "metadata": {},
   "outputs": [],
   "source": [
    "l = [1,2,3,4,5,6,7,7,89,9]\n",
    "def odd_l(a):\n",
    "    n=[]\n",
    "    for i in a:\n",
    "        if i%2!=0:\n",
    "            n.append(i)\n",
    "    return n        \n",
    "        "
   ]
  },
  {
   "cell_type": "code",
   "execution_count": 4,
   "id": "508feb47-8854-44ff-9bd8-6e8da66c69a2",
   "metadata": {},
   "outputs": [
    {
     "data": {
      "text/plain": [
       "[1, 3, 5, 7, 7, 89, 9]"
      ]
     },
     "execution_count": 4,
     "metadata": {},
     "output_type": "execute_result"
    }
   ],
   "source": [
    "odd_l(l)"
   ]
  },
  {
   "cell_type": "markdown",
   "id": "4df3c5a3-4c32-4dd7-9b87-4f7ab4172029",
   "metadata": {},
   "source": [
    "Ans-2 The *args parameter allows you to pass a variable number of non-keyword arguments to a function\n",
    "The **kwargs parameter allows you to pass a variable number of keyword arguments to a function.\n",
    "\n",
    "def sum_numbers(*args):\n",
    "    total = 0\n",
    "    for num in args:\n",
    "        total += num\n",
    "    return total\n",
    "    \n",
    "def print_person_info(**kwargs):\n",
    "    for key, value in kwargs.items():\n",
    "        print(f\"{key}: {value}\")"
   ]
  },
  {
   "cell_type": "markdown",
   "id": "507893a9-3cb1-4a0e-afb5-3d1820353e8d",
   "metadata": {},
   "source": [
    "ANS-3 The iterator method is used to initialize an iterator object. It returns the iterator object itself and is called when you want to iterate over the iterable.\n",
    " __iter__() method is used to iterate\n"
   ]
  },
  {
   "cell_type": "code",
   "execution_count": 5,
   "id": "4a4efcdb-8cfd-454a-8f5f-11a2710c4d76",
   "metadata": {},
   "outputs": [
    {
     "name": "stdout",
     "output_type": "stream",
     "text": [
      "2\n",
      "4\n",
      "6\n",
      "8\n",
      "10\n"
     ]
    }
   ],
   "source": [
    "my_list = [2, 4, 6, 8, 10, 12, 14, 16, 18, 20]\n",
    "my_iterator = iter(my_list)\n",
    "for _ in range(5):\n",
    "    print(next(my_iterator))\n"
   ]
  },
  {
   "cell_type": "markdown",
   "id": "2bd51091-a857-44ae-8d64-4d09a6f56355",
   "metadata": {},
   "source": [
    "ANS-4 a generator function is a special type of function that returns an iterator (a generator). It uses the yield keyword to define a sequence of values to be generated lazily as they are requested\n",
    "The yield keyword is used within a generator function to yield a value to the caller without terminating the function. "
   ]
  },
  {
   "cell_type": "code",
   "execution_count": 8,
   "id": "ab80f72c-494c-4f5c-97c7-c3e31615d1ac",
   "metadata": {},
   "outputs": [
    {
     "name": "stdout",
     "output_type": "stream",
     "text": [
      "0\n",
      "2\n",
      "4\n",
      "6\n",
      "8\n"
     ]
    }
   ],
   "source": [
    "def generate_even_numbers(n):\n",
    "    for i in range(n):\n",
    "        if i % 2 == 0:\n",
    "            yield i\n",
    "even_nums = generate_even_numbers(10)\n",
    "for num in even_nums:\n",
    "    print(num)\n"
   ]
  },
  {
   "cell_type": "code",
   "execution_count": null,
   "id": "e358d2a2-ed7b-44ad-909a-75529ce1822a",
   "metadata": {},
   "outputs": [],
   "source": [
    " def gen_prime():\n",
    "        num=2\n",
    "        while True:\n",
    "            if all(num%i!=0 for i in range(2,int(num**0.5)+1)):\n",
    "                yield num\n",
    "            num+=1\n",
    "prime_gen = gen_prime()\n",
    "\n",
    "for j in range(20):\n",
    "    prime_no=next(gen_prime)\n",
    "    "
   ]
  }
 ],
 "metadata": {
  "kernelspec": {
   "display_name": "Python 3 (ipykernel)",
   "language": "python",
   "name": "python3"
  },
  "language_info": {
   "codemirror_mode": {
    "name": "ipython",
    "version": 3
   },
   "file_extension": ".py",
   "mimetype": "text/x-python",
   "name": "python",
   "nbconvert_exporter": "python",
   "pygments_lexer": "ipython3",
   "version": "3.10.8"
  }
 },
 "nbformat": 4,
 "nbformat_minor": 5
}
