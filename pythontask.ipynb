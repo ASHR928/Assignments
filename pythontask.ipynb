{
 "cells": [
  {
   "cell_type": "code",
   "execution_count": 5,
   "id": "08d41782-6616-4500-bfbb-0d1a145bc263",
   "metadata": {},
   "outputs": [],
   "source": [
    "def encrypt_message(message):\n",
    "    encrypted_message = \" \"\n",
    "    message = message.lower()\n",
    "    for char in message:\n",
    "        if char.isalpha():\n",
    "            encrypted_message += chr(ord(\"z\") - (ord(char)-ord(\"a\")))\n",
    "        elif char==\" \":\n",
    "            encrypted_message += \"$\"\n",
    "        else:\n",
    "            encrypted_message += char\n",
    "    return encrypted_message       "
   ]
  },
  {
   "cell_type": "code",
   "execution_count": 6,
   "id": "b8597e57-bdd2-4a9c-9193-6a679f9a4bc7",
   "metadata": {},
   "outputs": [
    {
     "name": "stdout",
     "output_type": "stream",
     "text": [
      " r$olev$blf\n"
     ]
    }
   ],
   "source": [
    "message = \"i love you\"\n",
    "print(encrypt_message(message))"
   ]
  },
  {
   "cell_type": "markdown",
   "id": "91784ee6-63f8-48da-a3fb-5f297062990d",
   "metadata": {},
   "source": [
    "ans-1"
   ]
  },
  {
   "cell_type": "code",
   "execution_count": 28,
   "id": "6fa2dc85-ba86-40cd-9044-17f2356464d1",
   "metadata": {},
   "outputs": [
    {
     "name": "stdout",
     "output_type": "stream",
     "text": [
      "Product: 0\n"
     ]
    }
   ],
   "source": [
    "def flatten_list(lst):\n",
    "    flattened = []\n",
    "    for item in lst:\n",
    "        if isinstance(item, list):\n",
    "            flattened.extend(flatten_list(item))\n",
    "        elif isinstance(item, tuple):\n",
    "            flattened.extend(flatten_list(list(item)))\n",
    "        else:\n",
    "            flattened.append(item)\n",
    "    return flattened\n",
    "\n",
    "\n",
    "def calculate_product(lst):\n",
    "    flattened_list = flatten_list(lst)\n",
    "\n",
    "    product = 1\n",
    "    for num in flattened_list:\n",
    "        if isinstance(num, (int, float)):\n",
    "            product *= num\n",
    "\n",
    "    return product\n",
    "\n",
    "\n",
    "# Example usage\n",
    "list1 = [1, 2, 3, 4, [44, 55, 66, True], False, (34, 56, 78, 89, 34), {1, 2, 3, 3, 2, 1}, {1: 34, \"key2\": [55, 67, 78, 89], 4: (45, 22, 61, 34)}, [56, 'data science'], 'Machine Learning']\n",
    "result = calculate_product(list1)\n",
    "print(\"Product:\", result)\n"
   ]
  },
  {
   "cell_type": "code",
   "execution_count": null,
   "id": "eb2195ba-da59-497e-be4b-fae3eca05a04",
   "metadata": {},
   "outputs": [],
   "source": []
  }
 ],
 "metadata": {
  "kernelspec": {
   "display_name": "Python 3 (ipykernel)",
   "language": "python",
   "name": "python3"
  },
  "language_info": {
   "codemirror_mode": {
    "name": "ipython",
    "version": 3
   },
   "file_extension": ".py",
   "mimetype": "text/x-python",
   "name": "python",
   "nbconvert_exporter": "python",
   "pygments_lexer": "ipython3",
   "version": "3.10.8"
  }
 },
 "nbformat": 4,
 "nbformat_minor": 5
}
